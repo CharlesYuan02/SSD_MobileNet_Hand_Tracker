{
  "nbformat": 4,
  "nbformat_minor": 0,
  "metadata": {
    "accelerator": "GPU",
    "colab": {
      "name": "training_ssd_mobilenet_v1_10k.ipynb",
      "provenance": [],
      "collapsed_sections": [],
      "machine_shape": "hm",
      "include_colab_link": true
    },
    "kernelspec": {
      "display_name": "Python 3",
      "name": "python3"
    }
  },
  "cells": [
    {
      "cell_type": "markdown",
      "metadata": {
        "id": "view-in-github",
        "colab_type": "text"
      },
      "source": [
        "<a href=\"https://colab.research.google.com/github/Chubbyman2/SSD_MobileNet_Hand_Tracker/blob/main/training_ssd_mobilenet_v1.ipynb\" target=\"_parent\"><img src=\"https://colab.research.google.com/assets/colab-badge.svg\" alt=\"Open In Colab\"/></a>"
      ]
    },
    {
      "cell_type": "markdown",
      "metadata": {
        "id": "to38OVllysHI"
      },
      "source": [
        "Original Code From:\r\n",
        "\r\n",
        "https://medium.com/@matus.tanon/custom-object-detection-using-tensorflow-in-google-colab-e4d6e1a17f18"
      ]
    },
    {
      "cell_type": "markdown",
      "metadata": {
        "id": "LsEEUHI4wqIh"
      },
      "source": [
        "This will provide you with the frozen_inference_graph.pb needed for the prediction program."
      ]
    },
    {
      "cell_type": "code",
      "metadata": {
        "colab": {
          "base_uri": "https://localhost:8080/"
        },
        "id": "2YO5akkPX5Q-",
        "outputId": "a7594f0d-ca12-400d-ca3a-01581c589449"
      },
      "source": [
        "%tensorflow_version 1.x  # Only runs on ver 1.x of Tensorflow\r\n",
        "!pip show tensorflow"
      ],
      "execution_count": null,
      "outputs": [
        {
          "output_type": "stream",
          "text": [
            "`%tensorflow_version` only switches the major version: 1.x or 2.x.\n",
            "You set: `1.x  # Only runs on ver 1.x of Tensorflow`. This will be interpreted as: `1.x`.\n",
            "\n",
            "\n",
            "TensorFlow 1.x selected.\n",
            "Name: tensorflow\n",
            "Version: 1.15.2\n",
            "Summary: TensorFlow is an open source machine learning framework for everyone.\n",
            "Home-page: https://www.tensorflow.org/\n",
            "Author: Google Inc.\n",
            "Author-email: packages@tensorflow.org\n",
            "License: Apache 2.0\n",
            "Location: /tensorflow-1.15.2/python3.6\n",
            "Requires: astor, protobuf, google-pasta, six, tensorflow-estimator, opt-einsum, tensorboard, keras-preprocessing, numpy, gast, grpcio, termcolor, wheel, absl-py, wrapt, keras-applications\n",
            "Required-by: stable-baselines, magenta, fancyimpute\n"
          ],
          "name": "stdout"
        }
      ]
    },
    {
      "cell_type": "code",
      "metadata": {
        "colab": {
          "base_uri": "https://localhost:8080/"
        },
        "id": "gtUS1PGeZgBs",
        "outputId": "e8d15e00-d907-4d40-9727-1d7f6e1a697f"
      },
      "source": [
        "!pip install tf_slim"
      ],
      "execution_count": null,
      "outputs": [
        {
          "output_type": "stream",
          "text": [
            "Collecting tf_slim\n",
            "\u001b[?25l  Downloading https://files.pythonhosted.org/packages/02/97/b0f4a64df018ca018cc035d44f2ef08f91e2e8aa67271f6f19633a015ff7/tf_slim-1.1.0-py2.py3-none-any.whl (352kB)\n",
            "\r\u001b[K     |█                               | 10kB 17.7MB/s eta 0:00:01\r\u001b[K     |█▉                              | 20kB 19.2MB/s eta 0:00:01\r\u001b[K     |██▉                             | 30kB 10.8MB/s eta 0:00:01\r\u001b[K     |███▊                            | 40kB 8.8MB/s eta 0:00:01\r\u001b[K     |████▋                           | 51kB 4.4MB/s eta 0:00:01\r\u001b[K     |█████▋                          | 61kB 5.0MB/s eta 0:00:01\r\u001b[K     |██████▌                         | 71kB 5.1MB/s eta 0:00:01\r\u001b[K     |███████▌                        | 81kB 5.4MB/s eta 0:00:01\r\u001b[K     |████████▍                       | 92kB 5.7MB/s eta 0:00:01\r\u001b[K     |█████████▎                      | 102kB 6.0MB/s eta 0:00:01\r\u001b[K     |██████████▎                     | 112kB 6.0MB/s eta 0:00:01\r\u001b[K     |███████████▏                    | 122kB 6.0MB/s eta 0:00:01\r\u001b[K     |████████████                    | 133kB 6.0MB/s eta 0:00:01\r\u001b[K     |█████████████                   | 143kB 6.0MB/s eta 0:00:01\r\u001b[K     |██████████████                  | 153kB 6.0MB/s eta 0:00:01\r\u001b[K     |███████████████                 | 163kB 6.0MB/s eta 0:00:01\r\u001b[K     |███████████████▉                | 174kB 6.0MB/s eta 0:00:01\r\u001b[K     |████████████████▊               | 184kB 6.0MB/s eta 0:00:01\r\u001b[K     |█████████████████▊              | 194kB 6.0MB/s eta 0:00:01\r\u001b[K     |██████████████████▋             | 204kB 6.0MB/s eta 0:00:01\r\u001b[K     |███████████████████▌            | 215kB 6.0MB/s eta 0:00:01\r\u001b[K     |████████████████████▌           | 225kB 6.0MB/s eta 0:00:01\r\u001b[K     |█████████████████████▍          | 235kB 6.0MB/s eta 0:00:01\r\u001b[K     |██████████████████████▍         | 245kB 6.0MB/s eta 0:00:01\r\u001b[K     |███████████████████████▎        | 256kB 6.0MB/s eta 0:00:01\r\u001b[K     |████████████████████████▏       | 266kB 6.0MB/s eta 0:00:01\r\u001b[K     |█████████████████████████▏      | 276kB 6.0MB/s eta 0:00:01\r\u001b[K     |██████████████████████████      | 286kB 6.0MB/s eta 0:00:01\r\u001b[K     |███████████████████████████     | 296kB 6.0MB/s eta 0:00:01\r\u001b[K     |████████████████████████████    | 307kB 6.0MB/s eta 0:00:01\r\u001b[K     |████████████████████████████▉   | 317kB 6.0MB/s eta 0:00:01\r\u001b[K     |█████████████████████████████▉  | 327kB 6.0MB/s eta 0:00:01\r\u001b[K     |██████████████████████████████▊ | 337kB 6.0MB/s eta 0:00:01\r\u001b[K     |███████████████████████████████▋| 348kB 6.0MB/s eta 0:00:01\r\u001b[K     |████████████████████████████████| 358kB 6.0MB/s \n",
            "\u001b[?25hRequirement already satisfied: absl-py>=0.2.2 in /usr/local/lib/python3.6/dist-packages (from tf_slim) (0.10.0)\n",
            "Requirement already satisfied: six in /usr/local/lib/python3.6/dist-packages (from absl-py>=0.2.2->tf_slim) (1.15.0)\n",
            "Installing collected packages: tf-slim\n",
            "Successfully installed tf-slim-1.1.0\n"
          ],
          "name": "stdout"
        }
      ]
    },
    {
      "cell_type": "code",
      "metadata": {
        "colab": {
          "base_uri": "https://localhost:8080/"
        },
        "id": "bHMHp3ThZhP2",
        "outputId": "21927607-b26b-45f4-ba34-541f39f3a84f"
      },
      "source": [
        "%cd /root/\r\n",
        "!git clone https://github.com/tensorflow/models.git # Import required models from Github"
      ],
      "execution_count": null,
      "outputs": [
        {
          "output_type": "stream",
          "text": [
            "/root\n",
            "Cloning into 'models'...\n",
            "remote: Enumerating objects: 58, done.\u001b[K\n",
            "remote: Counting objects: 100% (58/58), done.\u001b[K\n",
            "remote: Compressing objects: 100% (46/46), done.\u001b[K\n",
            "remote: Total 49668 (delta 18), reused 52 (delta 12), pack-reused 49610\u001b[K\n",
            "Receiving objects: 100% (49668/49668), 558.73 MiB | 41.58 MiB/s, done.\n",
            "Resolving deltas: 100% (34251/34251), done.\n"
          ],
          "name": "stdout"
        }
      ]
    },
    {
      "cell_type": "code",
      "metadata": {
        "colab": {
          "base_uri": "https://localhost:8080/"
        },
        "id": "N5aGS9DTZnOf",
        "outputId": "9c3bc98d-2129-419e-f87a-f56f012cb651"
      },
      "source": [
        "# Install Tensorboard\r\n",
        "!wget https://bin.equinox.io/c/4VmDzA7iaHb/ngrok-stable-linux-amd64.zip\r\n",
        "!unzip -o ngrok-stable-linux-amd64.zip"
      ],
      "execution_count": null,
      "outputs": [
        {
          "output_type": "stream",
          "text": [
            "--2021-01-03 01:19:54--  https://bin.equinox.io/c/4VmDzA7iaHb/ngrok-stable-linux-amd64.zip\n",
            "Resolving bin.equinox.io (bin.equinox.io)... 54.204.23.149, 52.206.211.104, 34.195.187.253, ...\n",
            "Connecting to bin.equinox.io (bin.equinox.io)|54.204.23.149|:443... connected.\n",
            "HTTP request sent, awaiting response... 200 OK\n",
            "Length: 13773305 (13M) [application/octet-stream]\n",
            "Saving to: ‘ngrok-stable-linux-amd64.zip’\n",
            "\n",
            "ngrok-stable-linux- 100%[===================>]  13.13M  52.8MB/s    in 0.2s    \n",
            "\n",
            "2021-01-03 01:19:54 (52.8 MB/s) - ‘ngrok-stable-linux-amd64.zip’ saved [13773305/13773305]\n",
            "\n",
            "Archive:  ngrok-stable-linux-amd64.zip\n",
            "  inflating: ngrok                   \n"
          ],
          "name": "stdout"
        }
      ]
    },
    {
      "cell_type": "code",
      "metadata": {
        "id": "I3w63KuIZugJ"
      },
      "source": [
        "# The logs that are created while training \r\n",
        "LOG_DIR = \"/root/models/trained\"\r\n",
        "get_ipython().system_raw(\r\n",
        "    'tensorboard --logdir {} --host 0.0.0.0 --port 6006 &'\r\n",
        "    .format(LOG_DIR)\r\n",
        ")\r\n",
        "get_ipython().system_raw('./ngrok http 6006 &')"
      ],
      "execution_count": null,
      "outputs": []
    },
    {
      "cell_type": "code",
      "metadata": {
        "colab": {
          "base_uri": "https://localhost:8080/"
        },
        "id": "MINUu_8HZ_zi",
        "outputId": "9a73a460-9587-4ce5-e4e6-766b1d58c53d"
      },
      "source": [
        "# Quick test of the Object Detection API\r\n",
        "%cd /root/models/research/\r\n",
        "!protoc object_detection/protos/*.proto --python_out=.\r\n",
        "import os\r\n",
        "os.environ['PYTHONPATH'] += ':/root/models/research/:/root/models/research/slim/:/root/models/research/object_detection/utils/:/root/models/research/object_detection'\r\n",
        "!python object_detection/builders/model_builder_test.py"
      ],
      "execution_count": null,
      "outputs": [
        {
          "output_type": "stream",
          "text": [
            "/root/models/research\n"
          ],
          "name": "stdout"
        }
      ]
    },
    {
      "cell_type": "code",
      "metadata": {
        "colab": {
          "base_uri": "https://localhost:8080/"
        },
        "id": "w2T6Dltoyj9I",
        "outputId": "976d388e-c46f-4cdf-c753-0cb745594e7a"
      },
      "source": [
        "# Download the pre-trained ssd_mobilenet_v1_coco model from Tensorflow model zoo\r\n",
        "%cd ~/models\r\n",
        "\r\n",
        "import os\r\n",
        "import shutil\r\n",
        "import glob\r\n",
        "import urllib\r\n",
        "import tarfile\r\n",
        "from requests import get\r\n",
        "\r\n",
        "MODEL = 'ssd_mobilenet_v1_coco_2017_11_17'\r\n",
        "MODEL_FILE = MODEL + '.tar.gz'\r\n",
        "DOWNLOAD_BASE = 'http://download.tensorflow.org/models/object_detection/'\r\n",
        "DEST_DIR = 'pretrained_model'\r\n",
        "\r\n",
        "if not (os.path.exists(MODEL_FILE)):\r\n",
        "  with open(MODEL_FILE, \"wb\") as file:\r\n",
        "    response = get(DOWNLOAD_BASE + MODEL_FILE)\r\n",
        "    file.write(response.content)\r\n",
        "\r\n",
        "tar = tarfile.open(MODEL_FILE)\r\n",
        "tar.extractall()\r\n",
        "tar.close()\r\n",
        "\r\n",
        "os.remove(MODEL_FILE)\r\n",
        "if (os.path.exists(DEST_DIR)):\r\n",
        "  shutil.rmtree(DEST_DIR)\r\n",
        "os.rename(MODEL, DEST_DIR)"
      ],
      "execution_count": null,
      "outputs": [
        {
          "output_type": "stream",
          "text": [
            "/root/models\n"
          ],
          "name": "stdout"
        }
      ]
    },
    {
      "cell_type": "code",
      "metadata": {
        "id": "6YHkaY9ye_1_"
      },
      "source": [
        "# Move Config file to directory \"models\"\r\n",
        "try:\r\n",
        "  shutil.move(\"/root/models/research/object_detection/samples/configs/ssd_mobilenet_v1_coco.config\", \"/root/models\")\r\n",
        "except:\r\n",
        "  pass"
      ],
      "execution_count": null,
      "outputs": []
    },
    {
      "cell_type": "code",
      "metadata": {
        "colab": {
          "base_uri": "https://localhost:8080/"
        },
        "id": "pg5HrMK7yvdt",
        "outputId": "bfc8cced-f2da-4f2b-c95b-03042e92a281"
      },
      "source": [
        "%cd /root/models/research/\r\n",
        "!protoc object_detection/protos/*.proto --python_out=.\r\n",
        "import os\r\n",
        "os.environ['PYTHONPATH'] += ':/root/models/research/:/root/models/research/slim/:/root/models/research/object_detection/utils/:/root/models/research/object_detection'\r\n",
        "\r\n",
        "# Edit Pipeline \r\n",
        "import tensorflow as tf\r\n",
        "from google.protobuf import text_format\r\n",
        "from object_detection.protos import pipeline_pb2\r\n",
        "\r\n",
        "pipeline = pipeline_pb2.TrainEvalPipelineConfig()                                                                                                                                                                                                          \r\n",
        "config_path = '/root/models/ssd_mobilenet_v1_coco.config'\r\n",
        "with tf.gfile.GFile(config_path, \"r\") as f:                                                                                                                                                                                                                     \r\n",
        "    proto_str = f.read()                                                                                                                                                                                                                                          \r\n",
        "    text_format.Merge(proto_str, pipeline)\r\n",
        "\r\n",
        "pipeline.train_config.fine_tune_checkpoint = '/root/models/pretrained_model/model.ckpt'\r\n",
        "pipeline.train_config.num_steps = 10000 # Feel free to train for more steps\r\n",
        "pipeline.model.ssd.num_classes = 1 # Just hands, nothing else\r\n",
        "pipeline.eval_config.num_examples = 5"
      ],
      "execution_count": null,
      "outputs": [
        {
          "output_type": "stream",
          "text": [
            "/root/models/research\n"
          ],
          "name": "stdout"
        }
      ]
    },
    {
      "cell_type": "code",
      "metadata": {
        "colab": {
          "background_save": true
        },
        "id": "TBK7dBDTds5h"
      },
      "source": [
        "import zipfile\r\n",
        "from google.colab import drive\r\n",
        "drive.mount('/content/drive/')\r\n",
        "\r\n",
        "!unzip \"/content/drive/My Drive/egohands_images.zip\""
      ],
      "execution_count": null,
      "outputs": []
    },
    {
      "cell_type": "code",
      "metadata": {
        "colab": {
          "background_save": true
        },
        "id": "F3mlvuj5nsCt"
      },
      "source": [
        "# Change the first four lines to where the images and label maps are\r\n",
        "pipeline.train_input_reader.tf_record_input_reader.input_path[0] = 'egohands_images/train/train.record'\r\n",
        "pipeline.train_input_reader.label_map_path = '/content/drive/My Drive/hand_label_map.pbtxt'\r\n",
        "pipeline.eval_input_reader[0].tf_record_input_reader.input_path[0] = 'egohands_images/test/test.record'\r\n",
        "pipeline.eval_input_reader[0].label_map_path = '/content/drive/My Drive/hand_label_map.pbtxt'\r\n",
        "\r\n",
        "config_text = text_format.MessageToString(pipeline)                                                                                                                                                                                                        \r\n",
        "with tf.gfile.Open(config_path, \"wb\") as f:                                                                                                                                                                                                                       \r\n",
        "    f.write(config_text)"
      ],
      "execution_count": null,
      "outputs": []
    },
    {
      "cell_type": "code",
      "metadata": {
        "colab": {
          "background_save": true
        },
        "id": "aYSn8NYt0FTX"
      },
      "source": [
        "# Compile protobuf and change Python path\r\n",
        "%cd /root/models/research/\r\n",
        "!protoc object_detection/protos/*.proto --python_out=.\r\n",
        "import os\r\n",
        "os.environ['PYTHONPATH'] += ':/root/models/research/:/root/models/research/slim/:/root/models/research/object_detection/utils/:/root/models/research/object_detection'\r\n",
        "\r\n",
        "# Begin training\r\n",
        "!python /root/models/research/object_detection/legacy/train.py \\\r\n",
        "    --logtostderr \\\r\n",
        "    --train_dir=/root/models/trained \\\r\n",
        "    --pipeline_config_path=/root/models/ssd_mobilenet_v1_coco.config"
      ],
      "execution_count": null,
      "outputs": []
    },
    {
      "cell_type": "code",
      "metadata": {
        "id": "X_5TGKHj0KXe"
      },
      "source": [
        "# Export trained model \r\n",
        "%cd /root/models/research\r\n",
        "!protoc object_detection/protos/*.proto --python_out=.\r\n",
        "import os\r\n",
        "os.environ['PYTHONPATH'] += ':/root/models/research/:/root/models/research/slim/:/root/models/research/object_detection/utils/:/root/models/research/object_detection'\r\n",
        "!python /root/models/research/object_detection/export_inference_graph.py \\\r\n",
        "    --input_type=image_tensor \\\r\n",
        "    --pipeline_config_path=/root/models/ssd_mobilenet_v1_coco.config \\\r\n",
        "    --output_directory=/root/models/fine_tuned_model \\\r\n",
        "    --trained_checkpoint_prefix=/root/models/trained/model.ckpt-10000 # Change this depending on num of training steps"
      ],
      "execution_count": null,
      "outputs": []
    },
    {
      "cell_type": "code",
      "metadata": {
        "id": "yd7ra2W4ym1n",
        "colab": {
          "base_uri": "https://localhost:8080/"
        },
        "outputId": "5306f31a-d110-48a5-f988-628ec86cd753"
      },
      "source": [
        "# The link to tensorboard works after training finishes\r\n",
        "!curl -s http://localhost:4040/api/tunnels | python3 -c \\\r\n",
        "    \"import sys, json; print(json.load(sys.stdin)['tunnels'][0]['public_url'])\""
      ],
      "execution_count": 17,
      "outputs": [
        {
          "output_type": "stream",
          "text": [
            "https://31e73d722568.ngrok.io\n"
          ],
          "name": "stdout"
        }
      ]
    }
  ]
}